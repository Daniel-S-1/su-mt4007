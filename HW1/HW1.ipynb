{
 "cells": [
  {
   "cell_type": "markdown",
   "id": "790d23b9-0891-43dd-a088-6c01136f8607",
   "metadata": {},
   "source": [
    "\n",
    "# Homework 1\n",
    "\n",
    "My name is Daniel and I am doing this course as part of my third semester in the Bachelorprogram in Mathematics and Computer Science. My previous experience in Data Science is a beginner course in python programming and a course in data structures&algorithms.\n",
    "\n",
    "Despite this, all the stuff surrounding git, github and jupyterlab is all new to me."
   ]
  }
 ],
 "metadata": {
  "kernelspec": {
   "display_name": "Python 3 (ipykernel)",
   "language": "python",
   "name": "python3"
  },
  "language_info": {
   "codemirror_mode": {
    "name": "ipython",
    "version": 3
   },
   "file_extension": ".py",
   "mimetype": "text/x-python",
   "name": "python",
   "nbconvert_exporter": "python",
   "pygments_lexer": "ipython3",
   "version": "3.12.4"
  }
 },
 "nbformat": 4,
 "nbformat_minor": 5
}
