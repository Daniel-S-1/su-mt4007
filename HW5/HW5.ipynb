{
 "cells": [
  {
   "cell_type": "markdown",
   "id": "8ed64cf3-bd0b-4cc2-8737-4b97722ae59c",
   "metadata": {},
   "source": [
    "# Homework 5"
   ]
  },
  {
   "cell_type": "markdown",
   "id": "68a6b3f4-78c0-4d1c-bb1f-db30331818cd",
   "metadata": {},
   "source": [
    "## Rest API"
   ]
  },
  {
   "cell_type": "code",
   "execution_count": 80,
   "id": "fce3a364-7e08-47eb-9a93-457b2bcf45d8",
   "metadata": {},
   "outputs": [],
   "source": [
    "import requests\n",
    "import json\n",
    "import matplotlib as plt\n",
    "from wordcloud import WordCloud, STOPWORDS"
   ]
  },
  {
   "cell_type": "markdown",
   "id": "5a93c26b-feac-4070-8fe5-116a9fe21d75",
   "metadata": {},
   "source": [
    "We want to create a wordcloud with the most common words from all the motivations of all the nobel prizes in physics. We can collect data on this by using the get method on the appropiate url below."
   ]
  },
  {
   "cell_type": "code",
   "execution_count": 82,
   "id": "5d977356-eaa8-4281-9ed6-42d4b39915b8",
   "metadata": {
    "scrolled": true
   },
   "outputs": [],
   "source": [
    "nobelPrize_physics = requests.get('http://api.nobelprize.org/2.1/nobelPrizes?limit=124&nobelPrizeCategory=phy')"
   ]
  },
  {
   "cell_type": "markdown",
   "id": "b2f798eb-6e09-43bf-ba6e-2cc710f3b352",
   "metadata": {},
   "source": [
    "We can then filter out just the english comments on every year there was a nobel prize awarded and print all this text to a textfile."
   ]
  },
  {
   "cell_type": "code",
   "execution_count": 84,
   "id": "27e97e5e-7d11-42b9-95d0-19b72976efd8",
   "metadata": {},
   "outputs": [],
   "source": [
    "with open('nobelPrizes_physics.txt', 'w') as h:\n",
    "    for year in nobelPrize_physics.json()['nobelPrizes']:\n",
    "        try:\n",
    "            print(year['laureates'][0]['motivation']['en'], file=h)\n",
    "        except KeyError:\n",
    "            continue"
   ]
  },
  {
   "cell_type": "markdown",
   "id": "95eaa447-07cf-44fb-870d-a1943d094640",
   "metadata": {},
   "source": [
    "We can then use this textfile and create an image (separate png.file) with the most common words using WordCloud and appropriate stopwords."
   ]
  },
  {
   "cell_type": "code",
   "execution_count": 86,
   "id": "0c8ae736-a5b6-4db3-9f3e-88ea84d89c46",
   "metadata": {},
   "outputs": [],
   "source": [
    "stopwords = STOPWORDS\n",
    "\n",
    "wc = WordCloud(\n",
    "    background_color = 'white',\n",
    "    stopwords = stopwords,\n",
    "    height = 600,\n",
    "    width = 400\n",
    ")"
   ]
  },
  {
   "cell_type": "code",
   "execution_count": 87,
   "id": "8c9ab2b0-0d6e-40b6-90ec-4c8c68c18a3e",
   "metadata": {},
   "outputs": [],
   "source": [
    "text = open('nobelPrizes_physics.txt', 'r').read()"
   ]
  },
  {
   "cell_type": "code",
   "execution_count": 88,
   "id": "88518ce9-3a7a-4c17-9887-0337f242bffd",
   "metadata": {},
   "outputs": [
    {
     "data": {
      "text/plain": [
       "<wordcloud.wordcloud.WordCloud at 0x19716a60bf0>"
      ]
     },
     "execution_count": 88,
     "metadata": {},
     "output_type": "execute_result"
    }
   ],
   "source": [
    "wc.generate(text)\n",
    "wc.to_file('wordcloud_nobelPrizes_physics.png')"
   ]
  },
  {
   "cell_type": "markdown",
   "id": "49dab518-b95c-4894-a8a2-eefa07c0c3c5",
   "metadata": {},
   "source": [
    "## Web Scraping"
   ]
  },
  {
   "cell_type": "code",
   "execution_count": 90,
   "id": "43fb405f-d566-4f8e-afe3-a199a636cb46",
   "metadata": {},
   "outputs": [],
   "source": [
    "from bs4 import BeautifulSoup\n",
    "import pandas as pd"
   ]
  },
  {
   "cell_type": "markdown",
   "id": "ba7ed0b4-aa4b-4440-9a35-d9ca66932f5a",
   "metadata": {},
   "source": [
    "Here we want to scrape data from the 3 first pages of a website containing books."
   ]
  },
  {
   "cell_type": "code",
   "execution_count": 92,
   "id": "4271da89-34ae-4ed6-a2bc-63088e260aae",
   "metadata": {},
   "outputs": [],
   "source": [
    "url1 = 'https://books.toscrape.com/'\n",
    "url2 = 'https://books.toscrape.com/catalogue/page-2.html'\n",
    "url3 = 'https://books.toscrape.com/catalogue/page-3.html'"
   ]
  },
  {
   "cell_type": "code",
   "execution_count": 93,
   "id": "c43e133b-d1f2-4562-aba9-0ac4024be850",
   "metadata": {
    "scrolled": true
   },
   "outputs": [],
   "source": [
    "page1 = requests.get(url1)"
   ]
  },
  {
   "cell_type": "code",
   "execution_count": 94,
   "id": "6654cd6a-a3a8-410e-bf6a-abf7dd301f0b",
   "metadata": {},
   "outputs": [],
   "source": [
    "page2 = requests.get(url2)"
   ]
  },
  {
   "cell_type": "code",
   "execution_count": 95,
   "id": "e8bd0be7-ee16-495c-8505-979a152d0158",
   "metadata": {},
   "outputs": [],
   "source": [
    "page3 = requests.get(url3)"
   ]
  },
  {
   "cell_type": "code",
   "execution_count": 96,
   "id": "2b10845d-7245-4f25-9684-8f987e40ed61",
   "metadata": {},
   "outputs": [],
   "source": [
    "html1 = BeautifulSoup(page1.content)"
   ]
  },
  {
   "cell_type": "code",
   "execution_count": 97,
   "id": "c10314c6-2864-4a6a-a0f8-512e531f675c",
   "metadata": {},
   "outputs": [],
   "source": [
    "html2 = BeautifulSoup(page2.content)"
   ]
  },
  {
   "cell_type": "code",
   "execution_count": 98,
   "id": "ed799eb8-3e56-4cfd-9bc4-8e8f1d972441",
   "metadata": {},
   "outputs": [],
   "source": [
    "html3 = BeautifulSoup(page3.content)"
   ]
  },
  {
   "cell_type": "markdown",
   "id": "bc3e6959-f76c-44ba-98a2-dea2b2b96673",
   "metadata": {},
   "source": [
    "We also want to analyse more data on the first 5 books."
   ]
  },
  {
   "cell_type": "code",
   "execution_count": 100,
   "id": "2aedf612-9e82-4d4b-baac-80bab6b86843",
   "metadata": {},
   "outputs": [],
   "source": [
    "url_book1 = 'https://books.toscrape.com/catalogue/a-light-in-the-attic_1000/index.html'\n",
    "url_book2 = 'https://books.toscrape.com/catalogue/tipping-the-velvet_999/index.html'\n",
    "url_book3 = 'https://books.toscrape.com/catalogue/soumission_998/index.html'\n",
    "url_book4 = 'https://books.toscrape.com/catalogue/sharp-objects_997/index.html'\n",
    "url_book5 = 'https://books.toscrape.com/catalogue/sapiens-a-brief-history-of-humankind_996/index.html'"
   ]
  },
  {
   "cell_type": "code",
   "execution_count": 101,
   "id": "a172205b-7135-4735-85df-affd1c84f47d",
   "metadata": {},
   "outputs": [],
   "source": [
    "page_book1 = requests.get(url_book1)"
   ]
  },
  {
   "cell_type": "code",
   "execution_count": 102,
   "id": "bb53fe6e-36a3-4f21-82e1-ee3824a6d66e",
   "metadata": {},
   "outputs": [],
   "source": [
    "page_book2 = requests.get(url_book2)"
   ]
  },
  {
   "cell_type": "code",
   "execution_count": 103,
   "id": "363f14cd-1dd2-49ae-859b-59152e203c4a",
   "metadata": {},
   "outputs": [],
   "source": [
    "page_book3 = requests.get(url_book3)"
   ]
  },
  {
   "cell_type": "code",
   "execution_count": 104,
   "id": "b355540f-ad5c-44b5-b150-88ed8f1375cb",
   "metadata": {},
   "outputs": [],
   "source": [
    "page_book4 = requests.get(url_book4)"
   ]
  },
  {
   "cell_type": "code",
   "execution_count": 105,
   "id": "dca3ec75-d07f-4b44-9610-04bbd4cbbdeb",
   "metadata": {},
   "outputs": [],
   "source": [
    "page_book5 = requests.get(url_book5)"
   ]
  },
  {
   "cell_type": "code",
   "execution_count": 106,
   "id": "0d33497c-6b88-4659-97b9-6342bdefebe4",
   "metadata": {},
   "outputs": [],
   "source": [
    "html_page_book1 = BeautifulSoup(page_book1.content)"
   ]
  },
  {
   "cell_type": "code",
   "execution_count": 107,
   "id": "f3d3ba33-a5ef-4b2a-99e7-e9bf22a99d04",
   "metadata": {},
   "outputs": [],
   "source": [
    "html_page_book2 = BeautifulSoup(page_book2.content)"
   ]
  },
  {
   "cell_type": "code",
   "execution_count": 108,
   "id": "fc469f45-2f8f-4803-915a-6f46c98d1c24",
   "metadata": {},
   "outputs": [],
   "source": [
    "html_page_book3 = BeautifulSoup(page_book3.content)"
   ]
  },
  {
   "cell_type": "code",
   "execution_count": 109,
   "id": "2a64e016-4a08-43ef-9263-986034f7e547",
   "metadata": {},
   "outputs": [],
   "source": [
    "html_page_book4 = BeautifulSoup(page_book4.content)"
   ]
  },
  {
   "cell_type": "code",
   "execution_count": 110,
   "id": "c27b94ca-1f6c-44b3-b20a-f9175d251848",
   "metadata": {},
   "outputs": [],
   "source": [
    "html_page_book5 = BeautifulSoup(page_book5.content)"
   ]
  },
  {
   "cell_type": "code",
   "execution_count": 111,
   "id": "fe30670b-e068-4de7-aa00-a31ae8d75dc0",
   "metadata": {},
   "outputs": [],
   "source": [
    "html_page_books = [html_page_book1, html_page_book2, html_page_book3, html_page_book4, html_page_book5]"
   ]
  },
  {
   "cell_type": "markdown",
   "id": "86d0ad08-e484-4a77-a72b-72251a13616a",
   "metadata": {},
   "source": [
    "To create a dataframe with the first 5 books including data on upc, title, price and rating we can first extract to separate lists."
   ]
  },
  {
   "cell_type": "code",
   "execution_count": 113,
   "id": "b9df299a-fff8-4248-b265-494a6a5a2b18",
   "metadata": {},
   "outputs": [
    {
     "data": {
      "text/plain": [
       "['a897fe39b1053632',\n",
       " '90fa61229261140a',\n",
       " '6957f44c3847a760',\n",
       " 'e00eb4fd7b871a48',\n",
       " '4165285e1663650f']"
      ]
     },
     "execution_count": 113,
     "metadata": {},
     "output_type": "execute_result"
    }
   ],
   "source": [
    "upc = []\n",
    "\n",
    "for page_book in html_page_books:\n",
    "    page_book = str(page_book)\n",
    "    start_index_page_book = page_book.find('UPC</th><td>') + len('UPC</th><td>')\n",
    "    end_index_page_book = start_index_page_book + page_book[start_index_page_book : ].find('</td>')\n",
    "    upc.append(page_book[start_index_page_book : end_index_page_book])\n",
    "\n",
    "upc"
   ]
  },
  {
   "cell_type": "code",
   "execution_count": 114,
   "id": "31b12a0c-226c-4841-a059-2701a96edc34",
   "metadata": {},
   "outputs": [],
   "source": [
    "h3_list = html1.find_all('h3')\n",
    "titles = []\n",
    "\n",
    "for title in h3_list:\n",
    "    title = str(title)\n",
    "    start_index_title = title.find('title=\"') + len('title=\"')\n",
    "    end_index_title = title[start_index_title : ].find('\">')\n",
    "    titles.append(title[start_index_title : start_index_title + end_index_title])"
   ]
  },
  {
   "cell_type": "code",
   "execution_count": 115,
   "id": "c332f145-9180-4a94-ba2d-08b5499102b4",
   "metadata": {},
   "outputs": [
    {
     "data": {
      "text/plain": [
       "['A Light in the Attic',\n",
       " 'Tipping the Velvet',\n",
       " 'Soumission',\n",
       " 'Sharp Objects',\n",
       " 'Sapiens: A Brief History of Humankind']"
      ]
     },
     "execution_count": 115,
     "metadata": {},
     "output_type": "execute_result"
    }
   ],
   "source": [
    "first_5_titles = titles[0:5]\n",
    "first_5_titles"
   ]
  },
  {
   "cell_type": "code",
   "execution_count": 116,
   "id": "7daa3ae1-5989-4f31-9bd6-9b57bc0edbf1",
   "metadata": {},
   "outputs": [
    {
     "data": {
      "text/plain": [
       "['£51.77', '£53.74', '£50.10', '£47.82', '£54.23']"
      ]
     },
     "execution_count": 116,
     "metadata": {},
     "output_type": "execute_result"
    }
   ],
   "source": [
    "price = []\n",
    "\n",
    "for page_book in html_page_books:\n",
    "    page_book = str(page_book)\n",
    "    start_index_page_book = page_book.find('Price (excl. tax)</th><td>') + len('Price (excl. tax)</th><td>')\n",
    "    end_index_page_book = start_index_page_book + page_book[start_index_page_book : ].find('</td>')\n",
    "    price.append(page_book[start_index_page_book : end_index_page_book])\n",
    "\n",
    "price"
   ]
  },
  {
   "cell_type": "code",
   "execution_count": 117,
   "id": "340e29db-c617-45f0-8214-f44b8a33f6f7",
   "metadata": {},
   "outputs": [
    {
     "data": {
      "text/plain": [
       "['Three', 'One', 'One', 'Four', 'Five']"
      ]
     },
     "execution_count": 117,
     "metadata": {},
     "output_type": "execute_result"
    }
   ],
   "source": [
    "rating = []\n",
    "\n",
    "for page_book in html_page_books:\n",
    "    page_book = str(page_book)\n",
    "    start_index_page_book = page_book.find('star-rating') + len('star-rating ')\n",
    "    end_index_page_book = start_index_page_book + page_book[start_index_page_book : ].find('\"')\n",
    "    rating.append(page_book[start_index_page_book : end_index_page_book])\n",
    "\n",
    "rating"
   ]
  },
  {
   "cell_type": "markdown",
   "id": "0419be99-eb05-4509-9ce4-f3ffca324e0a",
   "metadata": {},
   "source": [
    "We can here combine the lists to a nested list and use this as the cell values in the dataframe. This values together with the column headers gives us the final table with the first 5 books."
   ]
  },
  {
   "cell_type": "code",
   "execution_count": 119,
   "id": "e685403c-4e15-4fcd-9102-d86d02f71994",
   "metadata": {
    "scrolled": true
   },
   "outputs": [],
   "source": [
    "data = []\n",
    "\n",
    "for i in range(5):\n",
    "        data.append([upc[i], first_5_titles[i], price[i], rating[i]])"
   ]
  },
  {
   "cell_type": "code",
   "execution_count": 120,
   "id": "6802794b-824e-49b4-966f-417d034be1f7",
   "metadata": {},
   "outputs": [
    {
     "data": {
      "text/html": [
       "<div>\n",
       "<style scoped>\n",
       "    .dataframe tbody tr th:only-of-type {\n",
       "        vertical-align: middle;\n",
       "    }\n",
       "\n",
       "    .dataframe tbody tr th {\n",
       "        vertical-align: top;\n",
       "    }\n",
       "\n",
       "    .dataframe thead th {\n",
       "        text-align: right;\n",
       "    }\n",
       "</style>\n",
       "<table border=\"1\" class=\"dataframe\">\n",
       "  <thead>\n",
       "    <tr style=\"text-align: right;\">\n",
       "      <th></th>\n",
       "      <th>title</th>\n",
       "      <th>price</th>\n",
       "      <th>rating</th>\n",
       "    </tr>\n",
       "    <tr>\n",
       "      <th>upc</th>\n",
       "      <th></th>\n",
       "      <th></th>\n",
       "      <th></th>\n",
       "    </tr>\n",
       "  </thead>\n",
       "  <tbody>\n",
       "    <tr>\n",
       "      <th>a897fe39b1053632</th>\n",
       "      <td>A Light in the Attic</td>\n",
       "      <td>£51.77</td>\n",
       "      <td>Three</td>\n",
       "    </tr>\n",
       "    <tr>\n",
       "      <th>90fa61229261140a</th>\n",
       "      <td>Tipping the Velvet</td>\n",
       "      <td>£53.74</td>\n",
       "      <td>One</td>\n",
       "    </tr>\n",
       "    <tr>\n",
       "      <th>6957f44c3847a760</th>\n",
       "      <td>Soumission</td>\n",
       "      <td>£50.10</td>\n",
       "      <td>One</td>\n",
       "    </tr>\n",
       "    <tr>\n",
       "      <th>e00eb4fd7b871a48</th>\n",
       "      <td>Sharp Objects</td>\n",
       "      <td>£47.82</td>\n",
       "      <td>Four</td>\n",
       "    </tr>\n",
       "    <tr>\n",
       "      <th>4165285e1663650f</th>\n",
       "      <td>Sapiens: A Brief History of Humankind</td>\n",
       "      <td>£54.23</td>\n",
       "      <td>Five</td>\n",
       "    </tr>\n",
       "  </tbody>\n",
       "</table>\n",
       "</div>"
      ],
      "text/plain": [
       "                                                  title   price rating\n",
       "upc                                                                   \n",
       "a897fe39b1053632                   A Light in the Attic  £51.77  Three\n",
       "90fa61229261140a                     Tipping the Velvet  £53.74    One\n",
       "6957f44c3847a760                             Soumission  £50.10    One\n",
       "e00eb4fd7b871a48                          Sharp Objects  £47.82   Four\n",
       "4165285e1663650f  Sapiens: A Brief History of Humankind  £54.23   Five"
      ]
     },
     "execution_count": 120,
     "metadata": {},
     "output_type": "execute_result"
    }
   ],
   "source": [
    "column_headers = ['upc', 'title', 'price', 'rating']\n",
    "df = pd.DataFrame(data, columns=column_headers)\n",
    "df.set_index('upc')"
   ]
  },
  {
   "cell_type": "code",
   "execution_count": null,
   "id": "b2e6b7a9-eb1b-45ce-aabc-d1869b38d656",
   "metadata": {},
   "outputs": [],
   "source": []
  }
 ],
 "metadata": {
  "kernelspec": {
   "display_name": "Python 3 (ipykernel)",
   "language": "python",
   "name": "python3"
  },
  "language_info": {
   "codemirror_mode": {
    "name": "ipython",
    "version": 3
   },
   "file_extension": ".py",
   "mimetype": "text/x-python",
   "name": "python",
   "nbconvert_exporter": "python",
   "pygments_lexer": "ipython3",
   "version": "3.12.4"
  }
 },
 "nbformat": 4,
 "nbformat_minor": 5
}
